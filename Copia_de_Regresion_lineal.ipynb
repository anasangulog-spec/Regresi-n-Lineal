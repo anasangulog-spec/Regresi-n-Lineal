{
  "cells": [
    {
      "cell_type": "markdown",
      "metadata": {
        "id": "view-in-github",
        "colab_type": "text"
      },
      "source": [
        "<a href=\"https://colab.research.google.com/github/anasangulog-spec/Regresi-n-Lineal/blob/main/Copia_de_Regresion_lineal.ipynb\" target=\"_parent\"><img src=\"https://colab.research.google.com/assets/colab-badge.svg\" alt=\"Open In Colab\"/></a>"
      ]
    },
    {
      "cell_type": "markdown",
      "metadata": {
        "id": "Ii_7DdtJH8e2"
      },
      "source": [
        "# Taller 3: Regresión Lineal y Conceptos Fundamentales\n",
        "\n",
        "\n"
      ],
      "id": "Ii_7DdtJH8e2"
    },
    {
      "cell_type": "markdown",
      "metadata": {
        "id": "1KuTZ6PkH8e5"
      },
      "source": [
        "## Instrucciones Generales\n",
        "\n",
        "**Fecha de entrega:** 20 de septiembre.\n",
        "**Tiempo disponible:** Tienen dos clases y el fin de semana para completar el taller.\n",
        "\n",
        "1.  **Trabajo en Grupo:** Este taller se debe realizar en los grupos previamente definidos.\n",
        "2.  **Repositorio en GitHub:** Cada grupo debe crear un repositorio en GitHub.\n",
        "    * Una sola persona del grupo es responsable de crearlo.\n",
        "    * El repositorio debe llamarse **`Regresion_Lineal`**.\n",
        "    * Este archivo debe ser subido al repositorio con el nombre **`Regresion_Lineal.ipynb`**.\n",
        "    * **Alternativa:** Si tienen complicaciones con GitHub, pueden enviar el enlace del cuaderno de Google Colab al aula virtual.\n",
        "3.  **Actividad a Mano (20% de la nota):**\n",
        "    * La asistencia a clase es **obligatoria**.\n",
        "    * Se realizará una actividad práctica de regresión lineal a mano.\n",
        "    * Cada integrante del grupo deberá firmar la hoja de la actividad, la cual constituye el 20% de la nota de este taller."
      ],
      "id": "1KuTZ6PkH8e5"
    },
    {
      "cell_type": "markdown",
      "metadata": {
        "id": "mgaEeFAbH8e7"
      },
      "source": [
        "---"
      ],
      "id": "mgaEeFAbH8e7"
    },
    {
      "cell_type": "markdown",
      "metadata": {
        "id": "et22XL5bH8e7"
      },
      "source": [
        "## **Parte 1: Definición del Problema**\n",
        "\n",
        "Piensa en tu experiencia académica o laboral en un área de operaciones y elige **un problema** relacionado con inventarios, calidad, mantenimiento o productividad.\n",
        "\n",
        "1.  Indica cuál es tu variable dependiente **$Y$** (aquello que quieres predecir o clasificar).\n",
        "2.  Lista entre 3 y 5 variables independientes **$X$** que medirías para predecir $Y$.\n",
        "3.  Especifica si tu problema es de **regresión** (predecir un valor numérico) o de **clasificación**."
      ],
      "id": "et22XL5bH8e7"
    },
    {
      "cell_type": "markdown",
      "metadata": {
        "id": "pxSLPR4AH8e8"
      },
      "source": [
        "**Respuesta (escribe aquí):**\n",
        "Problema: Predecir el nivel de inventario óptimo de un producto en un almacén para evitar desabastecimiento o exceso de stock.\n",
        "\n",
        "**Respuesta 1:**\n",
        "Nivel de inventario (unidades en stock).\n",
        "\n",
        "**Respuesta 2:**\n",
        "1. Demanda mensual histórica (unidades).\n",
        "2. Tiempo de entrega del proveedor (días).\n",
        "3. Precio de compra del producto (pesos).\n",
        "4. Número de pedidos realizados por mes.\n",
        "\n",
        "**Respuesta 3:**\n",
        "El problema corresponde a regresión ya que se va a predecir un valor númerico, en este caso las unidades de inventario."
      ],
      "id": "pxSLPR4AH8e8"
    },
    {
      "cell_type": "markdown",
      "metadata": {
        "id": "fGoj1KxxH8e8"
      },
      "source": [
        "---"
      ],
      "id": "fGoj1KxxH8e8"
    },
    {
      "cell_type": "markdown",
      "metadata": {
        "id": "eHOtOSQiH8e9"
      },
      "source": [
        "## **Parte 2: Preprocesamiento de Datos y *Leakage***\n",
        "\n",
        "Basado en el caso que definiste en la Parte 1:\n",
        "\n",
        "1.  Lista entre 3 y 5 **transformaciones** que aplicarías a tus datos (ej. imputación de valores faltantes, codificación de variables categóricas, escalado, creación de *lags*, etc.) y **justifica por qué** cada una es necesaria.\n",
        "2.  Señala un posible riesgo de ***data leakage*** (fuga de datos) en tu plan y explica cómo lo evitarías usando un *pipeline* de preprocesamiento."
      ],
      "id": "eHOtOSQiH8e9"
    },
    {
      "cell_type": "markdown",
      "metadata": {
        "id": "6KYkmr9mH8e9"
      },
      "source": [
        "**Respuesta (escribe aquí):**\n",
        "Las transformaciones que se aplicaran a los datos son:\n",
        "1. Imputación de valores faltantes: para completar registros incompletos de demanda o tiempos de entrega.\n",
        "2. Codificación de variables categóricas: si existen proveedores o categorías de productos.\n",
        "3. Codificación de variables categóricas: si existen proveedores o categorías de productos.\n",
        "4. Creación de lags de demanda: considerar la demanda del mes anterior como predictor.\n",
        "5. Detección y tratamiento de outliers: por pedidos atípicos que distorsionen el modelo.\n",
        "\n",
        "**Posible riesgo de leakage**\n",
        "Usar datos futuros de demanda al predecir inventario actual.\n",
        "\n",
        "Cómo evitarlo: Implementar un pipeline que primero divida en train/test y luego aplique las transformaciones, asegurando que solo se use información pasada para entrenar."
      ],
      "id": "6KYkmr9mH8e9"
    },
    {
      "cell_type": "markdown",
      "metadata": {
        "id": "hbyCKrY6H8e-"
      },
      "source": [
        "---"
      ],
      "id": "hbyCKrY6H8e-"
    },
    {
      "cell_type": "markdown",
      "metadata": {
        "id": "ukCTM2EKH8e-"
      },
      "source": [
        "## **Parte 3: Interpretación y Métricas de Regresión Simple**\n",
        "\n",
        "Para esta sección, elige un caso simple de regresión (puede ser el tuyo o uno hipotético, como predecir la demanda de un producto según su precio).\n",
        "\n",
        "1.  Define claramente las variables **$Y$** y **$X$** junto con sus **unidades** (ej. $Y$: número de unidades vendidas, $X$: precio en dólares).\n",
        "2.  Supón que entrenas un modelo y obtienes una pendiente de **$\\hat{\\beta}_1 = -0.6$**. Escribe una interpretación clara y concisa de este coeficiente en el contexto de tu problema.\n",
        "3.  ¿Qué **métrica** de evaluación usarías (MAE, RMSE, o MAPE) y **por qué** es la más adecuada para tu caso?\n",
        "4.  Menciona **un supuesto** del modelo de regresión lineal que validarías (ej. linealidad, homocedasticidad) y explica **cómo** lo harías (usando un gráfico o una prueba estadística)."
      ],
      "id": "ukCTM2EKH8e-"
    },
    {
      "cell_type": "markdown",
      "metadata": {
        "id": "5KGzW8pSH8e_"
      },
      "source": [
        "**Respuesta (escribe aquí):**\n",
        "**Y:** Demanda del producto (unidades/mes).\n",
        "**X:** Precio del producto (pesos).\n",
        "\n",
        "Interpretación β^1=−0.6: Por cada incremento de 1 peso en el precio, la demanda disminuye en 0.6 unidades, manteniéndose todo lo demás constante.\n",
        "\n",
        "Se escogio la **metrica** RMSE (Root Mean Squared Error) porque penaliza más los errores grandes y es útil cuando un mal pronóstico puede causar pérdidas altas.\n",
        "\n",
        "**Supuesto del modelo:** Homocedasticidad (que los errores tengan varianza constante), se desarrollara revisando un gráfico de residuos vs. valores ajustados."
      ],
      "id": "5KGzW8pSH8e_"
    },
    {
      "cell_type": "markdown",
      "metadata": {
        "id": "NlCf92svH8e_"
      },
      "source": [
        "---"
      ],
      "id": "NlCf92svH8e_"
    },
    {
      "cell_type": "markdown",
      "metadata": {
        "id": "DEOrd_fSH8e_"
      },
      "source": [
        "## **Parte 4: Regresión Múltiple y Colinealidad**\n",
        "\n",
        "Volviendo a tu caso de la Parte 1 (con múltiples variables).\n",
        "\n",
        "1.  Escribe el **vector de variables** $\\vec{X}$ y la **respuesta** $Y$.\n",
        "2.  Explica cómo interpretarías el **coeficiente** de una de tus variables clave (incluyendo unidades y el sentido de la relación: positiva o negativa).\n",
        "3.  Si sospecharas que existe **colinealidad** entre tus variables, menciona **dos acciones** que podrías tomar para mitigarla."
      ],
      "id": "DEOrd_fSH8e_"
    },
    {
      "cell_type": "markdown",
      "metadata": {
        "id": "REUWPUP_H8fA"
      },
      "source": [
        "**Respuesta (escribe aquí):**\n",
        "\n",
        "**Vector de variables 𝑋:**\n",
        "X: Demanda histórica, tiempo de entrega, precio de compra, número de pedidos.\n",
        "\n",
        "**Variable respuesta 𝑌:**\n",
        "Y: Nivel de inventario (unidades).\n",
        "\n",
        "**Interpretacion del coeficiente:** Si el coeficiente de “tiempo de entrega” es 5, significa que por cada día adicional de entrega, el nivel de inventario requerido aumenta en 5 unidades (relación positiva).\n",
        "\n",
        "**Acciones para mitigar la colinealidad:**\n",
        "1. Eliminar variables altamente correlacionadas.\n",
        "2. Aplicar regularización (Ridge o Lasso)."
      ],
      "id": "REUWPUP_H8fA"
    },
    {
      "cell_type": "markdown",
      "metadata": {
        "id": "Kfz2bBkzH8fA"
      },
      "source": [
        "---"
      ],
      "id": "Kfz2bBkzH8fA"
    },
    {
      "cell_type": "markdown",
      "metadata": {
        "id": "d0sQYW3DH8fA"
      },
      "source": [
        "## **Parte 5: Interacciones y Multicolinealidad (VIF)**\n",
        "\n",
        "1.  Plantea un caso con una variable $Y$ y entre 4 y 6 variables $X$. ¿Qué término de **interacción** entre dos variables podrías añadir al modelo y **por qué** crees que sería útil?\n",
        "2.  Si al calcular el Factor de Inflación de la Varianza (VIF) para una variable, obtienes un valor alto (ej. > 10), menciona **dos acciones** que podrías tomar para solucionarlo."
      ],
      "id": "d0sQYW3DH8fA"
    },
    {
      "cell_type": "markdown",
      "metadata": {
        "id": "tEgefQ1cH8fA"
      },
      "source": [
        "**Respuesta (escribe aquí):**\n",
        "\n",
        "*Variables y unidades:*\n",
        "\n",
        "Y: Nivel de inventario (unidades).\n",
        "X1: Demanda histórica (unidades/mes).\n",
        "X2: Precio (unidad: centenas de pesos).\n",
        "X3: Tiempo de entrega (lead time) (días).\n",
        "X4: Número de pedidos por mes (cantidad).\n",
        "\n",
        "**Interacción propuesta:** 𝑋1×𝑋3 X1×X3 (Demanda × Lead time).\n",
        "Demanda histórica × Tiempo de entrega = útil porque alta demanda junto con largos tiempos de entrega puede generar faltantes.\n",
        "\n",
        "\n",
        "**Inflación de la varianza >10:**\n",
        "1. Centrar variables antes de crear interacciones: restar la media a 𝑋1 X1 y 𝑋3 X3. El centrado reduce la colinealidad entre los términos principales y el término de interacción 𝑋1⋅𝑋3 X1⋅X3.\n",
        "2. Eliminar o combinar variables muy correlacionadas: si Demanda y Pedidos están muy correlacionadas, se podria conservar solo la más informativa o crear un índice (p. ej. promedio ponderado)."
      ],
      "id": "tEgefQ1cH8fA"
    },
    {
      "cell_type": "markdown",
      "metadata": {
        "id": "8XdQIyu_H8fB"
      },
      "source": [
        "---"
      ],
      "id": "8XdQIyu_H8fB"
    },
    {
      "cell_type": "markdown",
      "metadata": {
        "id": "XKsr-uPlH8fB"
      },
      "source": [
        "## **Parte 6: Variables Categóricas e Interacciones**\n",
        "\n",
        "1.  Define una **variable categórica** para tu caso (puedes inventarla si no la tenías). Elige una de sus categorías como el nivel **base** o de referencia y **justifica** tu elección.\n",
        "2.  Crea una **interacción** entre una variable numérica y la variable categórica que definiste. Explica cómo se interpretaría el coeficiente de esta interacción."
      ],
      "id": "XKsr-uPlH8fB"
    },
    {
      "cell_type": "markdown",
      "metadata": {
        "id": "7i_JBwwbH8fC"
      },
      "source": [
        "**Respuesta (escribe aquí):**\n",
        "\n",
        "**Variable categórica:** Tipo de proveedor.\n",
        "*Nivel base:* Nacional (porque es el más frecuente y sirve como referencia).\n",
        "\n",
        "**Interacción:** Tiempo de entrega × Tipo de proveedor.\n",
        "*Interpretación:* El efecto del tiempo de entrega en el inventario cambia según si el proveedor es nacional o internacional.\n"
      ],
      "id": "7i_JBwwbH8fC"
    },
    {
      "cell_type": "markdown",
      "metadata": {
        "id": "DjYrQWpqH8fC"
      },
      "source": [
        "---"
      ],
      "id": "DjYrQWpqH8fC"
    },
    {
      "cell_type": "markdown",
      "metadata": {
        "id": "mG9YJpeoH8fC"
      },
      "source": [
        "## **Parte 7: Conceptos Clave de Clasificación**\n",
        "\n",
        "Aunque el taller se centra en regresión, estos conceptos son fundamentales en Machine Learning.\n",
        "\n",
        "1.  Explica qué es la **curva ROC** y para qué se utiliza en un problema de clasificación.\n",
        "2.  Define el concepto de **accuracy** (exactitud) y menciona una situación en la que podría ser una métrica engañosa.\n",
        "3.  Describe qué es una **matriz de confusión** y cómo se interpretan sus componentes (Verdaderos Positivos, Falsos Positivos, Verdaderos Negativos, Falsos Negativos)."
      ],
      "id": "mG9YJpeoH8fC"
    },
    {
      "cell_type": "markdown",
      "metadata": {
        "id": "aq-cYN3nH8fD"
      },
      "source": [
        "**Respuesta (escribe aquí):**\n",
        "\n",
        "**Curva ROC:** Representa la capacidad de un modelo de clasificación para distinguir entre clases. Se utiliza para evaluar el desempeño comparando Tasa de Verdaderos Positivos vs. Tasa de Falsos Positivos\n",
        "\n",
        "**Accuracy:** Es la proporción de predicciones correctas sobre el total. Ejemplo, predecir “sin falla” en una máquina que falla solo el 1% del tiempo.\n",
        "\n",
        "**Matris de confusión:** Es una tabla que permite evaluar el desempeño de un modelo de clasificación al comparar sus predicciones con los valores reales: los Verdaderos Positivos (VP) son los casos positivos correctamente identificados por el modelo, los Falsos Positivos (FP) son aquellos casos que en realidad son negativos pero el modelo clasificó erróneamente como positivos, los Verdaderos Negativos (VN) corresponden a los negativos correctamente reconocidos, y los Falsos Negativos (FN) son los casos positivos que el modelo no detectó y clasificó como negativos; en conjunto, estos cuatro elementos permiten analizar no solo la exactitud, sino también la capacidad del modelo para distinguir entre clases."
      ],
      "id": "aq-cYN3nH8fD"
    }
  ],
  "metadata": {
    "kernelspec": {
      "display_name": "Python 3",
      "language": "python",
      "name": "python3"
    },
    "language_info": {
      "name": "python",
      "version": "3.x"
    },
    "colab": {
      "provenance": [],
      "include_colab_link": true
    }
  },
  "nbformat": 4,
  "nbformat_minor": 5
}